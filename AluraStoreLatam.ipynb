{
  "nbformat": 4,
  "nbformat_minor": 0,
  "metadata": {
    "colab": {
      "provenance": []
    },
    "kernelspec": {
      "name": "python3",
      "display_name": "Python 3"
    },
    "language_info": {
      "name": "python"
    }
  },
  "cells": [
    {
      "cell_type": "markdown",
      "source": [
        "### Importación de datos\n",
        "\n"
      ],
      "metadata": {
        "id": "RhEdWd9YUR6H"
      }
    },
    {
      "cell_type": "code",
      "source": [
        "import pandas as pd\n"
      ],
      "metadata": {
        "id": "0Emnj3DJPg9c"
      },
      "execution_count": null,
      "outputs": []
    },
    {
      "cell_type": "markdown",
      "source": [],
      "metadata": {
        "id": "Xfk32wwrPgd5"
      }
    },
    {
      "cell_type": "code",
      "execution_count": null,
      "metadata": {
        "colab": {
          "base_uri": "https://localhost:8080/",
          "height": 310
        },
        "id": "T3EvaeQ_INIL",
        "outputId": "65f20f2e-3dad-4960-8882-23a01b83a88f"
      },
      "outputs": [
        {
          "output_type": "execute_result",
          "data": {
            "text/plain": [
              "            Producto Categoría del Producto    Precio  Costo de envío  \\\n",
              "0  Asistente virtual           Electrónicos  164300.0          6900.0   \n",
              "1    Mesa de comedor                Muebles  192300.0          8400.0   \n",
              "2      Juego de mesa               Juguetes  209600.0         15900.0   \n",
              "3         Microondas      Electrodomésticos  757500.0         41000.0   \n",
              "4   Silla de oficina                Muebles  335200.0         20200.0   \n",
              "\n",
              "  Fecha de Compra         Vendedor Lugar de Compra  Calificación  \\\n",
              "0      16/01/2021      Pedro Gomez          Bogotá             4   \n",
              "1      18/05/2022  Beatriz Morales        Medellín             1   \n",
              "2      15/03/2021   Juan Fernandez       Cartagena             1   \n",
              "3      03/05/2022   Juan Fernandez            Cali             4   \n",
              "4      07/11/2020    Maria Alfonso        Medellín             5   \n",
              "\n",
              "       Método de pago  Cantidad de cuotas       lat       lon  \n",
              "0  Tarjeta de crédito                   8   4.60971 -74.08175  \n",
              "1  Tarjeta de crédito                   4   6.25184 -75.56359  \n",
              "2  Tarjeta de crédito                   1  10.39972 -75.51444  \n",
              "3               Nequi                   1   3.43722 -76.52250  \n",
              "4               Nequi                   1   6.25184 -75.56359  "
            ],
            "text/html": [
              "\n",
              "  <div id=\"df-e74c6d88-bff1-4925-aa41-89304ab4e61f\" class=\"colab-df-container\">\n",
              "    <div>\n",
              "<style scoped>\n",
              "    .dataframe tbody tr th:only-of-type {\n",
              "        vertical-align: middle;\n",
              "    }\n",
              "\n",
              "    .dataframe tbody tr th {\n",
              "        vertical-align: top;\n",
              "    }\n",
              "\n",
              "    .dataframe thead th {\n",
              "        text-align: right;\n",
              "    }\n",
              "</style>\n",
              "<table border=\"1\" class=\"dataframe\">\n",
              "  <thead>\n",
              "    <tr style=\"text-align: right;\">\n",
              "      <th></th>\n",
              "      <th>Producto</th>\n",
              "      <th>Categoría del Producto</th>\n",
              "      <th>Precio</th>\n",
              "      <th>Costo de envío</th>\n",
              "      <th>Fecha de Compra</th>\n",
              "      <th>Vendedor</th>\n",
              "      <th>Lugar de Compra</th>\n",
              "      <th>Calificación</th>\n",
              "      <th>Método de pago</th>\n",
              "      <th>Cantidad de cuotas</th>\n",
              "      <th>lat</th>\n",
              "      <th>lon</th>\n",
              "    </tr>\n",
              "  </thead>\n",
              "  <tbody>\n",
              "    <tr>\n",
              "      <th>0</th>\n",
              "      <td>Asistente virtual</td>\n",
              "      <td>Electrónicos</td>\n",
              "      <td>164300.0</td>\n",
              "      <td>6900.0</td>\n",
              "      <td>16/01/2021</td>\n",
              "      <td>Pedro Gomez</td>\n",
              "      <td>Bogotá</td>\n",
              "      <td>4</td>\n",
              "      <td>Tarjeta de crédito</td>\n",
              "      <td>8</td>\n",
              "      <td>4.60971</td>\n",
              "      <td>-74.08175</td>\n",
              "    </tr>\n",
              "    <tr>\n",
              "      <th>1</th>\n",
              "      <td>Mesa de comedor</td>\n",
              "      <td>Muebles</td>\n",
              "      <td>192300.0</td>\n",
              "      <td>8400.0</td>\n",
              "      <td>18/05/2022</td>\n",
              "      <td>Beatriz Morales</td>\n",
              "      <td>Medellín</td>\n",
              "      <td>1</td>\n",
              "      <td>Tarjeta de crédito</td>\n",
              "      <td>4</td>\n",
              "      <td>6.25184</td>\n",
              "      <td>-75.56359</td>\n",
              "    </tr>\n",
              "    <tr>\n",
              "      <th>2</th>\n",
              "      <td>Juego de mesa</td>\n",
              "      <td>Juguetes</td>\n",
              "      <td>209600.0</td>\n",
              "      <td>15900.0</td>\n",
              "      <td>15/03/2021</td>\n",
              "      <td>Juan Fernandez</td>\n",
              "      <td>Cartagena</td>\n",
              "      <td>1</td>\n",
              "      <td>Tarjeta de crédito</td>\n",
              "      <td>1</td>\n",
              "      <td>10.39972</td>\n",
              "      <td>-75.51444</td>\n",
              "    </tr>\n",
              "    <tr>\n",
              "      <th>3</th>\n",
              "      <td>Microondas</td>\n",
              "      <td>Electrodomésticos</td>\n",
              "      <td>757500.0</td>\n",
              "      <td>41000.0</td>\n",
              "      <td>03/05/2022</td>\n",
              "      <td>Juan Fernandez</td>\n",
              "      <td>Cali</td>\n",
              "      <td>4</td>\n",
              "      <td>Nequi</td>\n",
              "      <td>1</td>\n",
              "      <td>3.43722</td>\n",
              "      <td>-76.52250</td>\n",
              "    </tr>\n",
              "    <tr>\n",
              "      <th>4</th>\n",
              "      <td>Silla de oficina</td>\n",
              "      <td>Muebles</td>\n",
              "      <td>335200.0</td>\n",
              "      <td>20200.0</td>\n",
              "      <td>07/11/2020</td>\n",
              "      <td>Maria Alfonso</td>\n",
              "      <td>Medellín</td>\n",
              "      <td>5</td>\n",
              "      <td>Nequi</td>\n",
              "      <td>1</td>\n",
              "      <td>6.25184</td>\n",
              "      <td>-75.56359</td>\n",
              "    </tr>\n",
              "  </tbody>\n",
              "</table>\n",
              "</div>\n",
              "    <div class=\"colab-df-buttons\">\n",
              "\n",
              "  <div class=\"colab-df-container\">\n",
              "    <button class=\"colab-df-convert\" onclick=\"convertToInteractive('df-e74c6d88-bff1-4925-aa41-89304ab4e61f')\"\n",
              "            title=\"Convert this dataframe to an interactive table.\"\n",
              "            style=\"display:none;\">\n",
              "\n",
              "  <svg xmlns=\"http://www.w3.org/2000/svg\" height=\"24px\" viewBox=\"0 -960 960 960\">\n",
              "    <path d=\"M120-120v-720h720v720H120Zm60-500h600v-160H180v160Zm220 220h160v-160H400v160Zm0 220h160v-160H400v160ZM180-400h160v-160H180v160Zm440 0h160v-160H620v160ZM180-180h160v-160H180v160Zm440 0h160v-160H620v160Z\"/>\n",
              "  </svg>\n",
              "    </button>\n",
              "\n",
              "  <style>\n",
              "    .colab-df-container {\n",
              "      display:flex;\n",
              "      gap: 12px;\n",
              "    }\n",
              "\n",
              "    .colab-df-convert {\n",
              "      background-color: #E8F0FE;\n",
              "      border: none;\n",
              "      border-radius: 50%;\n",
              "      cursor: pointer;\n",
              "      display: none;\n",
              "      fill: #1967D2;\n",
              "      height: 32px;\n",
              "      padding: 0 0 0 0;\n",
              "      width: 32px;\n",
              "    }\n",
              "\n",
              "    .colab-df-convert:hover {\n",
              "      background-color: #E2EBFA;\n",
              "      box-shadow: 0px 1px 2px rgba(60, 64, 67, 0.3), 0px 1px 3px 1px rgba(60, 64, 67, 0.15);\n",
              "      fill: #174EA6;\n",
              "    }\n",
              "\n",
              "    .colab-df-buttons div {\n",
              "      margin-bottom: 4px;\n",
              "    }\n",
              "\n",
              "    [theme=dark] .colab-df-convert {\n",
              "      background-color: #3B4455;\n",
              "      fill: #D2E3FC;\n",
              "    }\n",
              "\n",
              "    [theme=dark] .colab-df-convert:hover {\n",
              "      background-color: #434B5C;\n",
              "      box-shadow: 0px 1px 3px 1px rgba(0, 0, 0, 0.15);\n",
              "      filter: drop-shadow(0px 1px 2px rgba(0, 0, 0, 0.3));\n",
              "      fill: #FFFFFF;\n",
              "    }\n",
              "  </style>\n",
              "\n",
              "    <script>\n",
              "      const buttonEl =\n",
              "        document.querySelector('#df-e74c6d88-bff1-4925-aa41-89304ab4e61f button.colab-df-convert');\n",
              "      buttonEl.style.display =\n",
              "        google.colab.kernel.accessAllowed ? 'block' : 'none';\n",
              "\n",
              "      async function convertToInteractive(key) {\n",
              "        const element = document.querySelector('#df-e74c6d88-bff1-4925-aa41-89304ab4e61f');\n",
              "        const dataTable =\n",
              "          await google.colab.kernel.invokeFunction('convertToInteractive',\n",
              "                                                    [key], {});\n",
              "        if (!dataTable) return;\n",
              "\n",
              "        const docLinkHtml = 'Like what you see? Visit the ' +\n",
              "          '<a target=\"_blank\" href=https://colab.research.google.com/notebooks/data_table.ipynb>data table notebook</a>'\n",
              "          + ' to learn more about interactive tables.';\n",
              "        element.innerHTML = '';\n",
              "        dataTable['output_type'] = 'display_data';\n",
              "        await google.colab.output.renderOutput(dataTable, element);\n",
              "        const docLink = document.createElement('div');\n",
              "        docLink.innerHTML = docLinkHtml;\n",
              "        element.appendChild(docLink);\n",
              "      }\n",
              "    </script>\n",
              "  </div>\n",
              "\n",
              "\n",
              "<div id=\"df-1a3018c4-5a7f-497d-84fe-fd5f64be6032\">\n",
              "  <button class=\"colab-df-quickchart\" onclick=\"quickchart('df-1a3018c4-5a7f-497d-84fe-fd5f64be6032')\"\n",
              "            title=\"Suggest charts\"\n",
              "            style=\"display:none;\">\n",
              "\n",
              "<svg xmlns=\"http://www.w3.org/2000/svg\" height=\"24px\"viewBox=\"0 0 24 24\"\n",
              "     width=\"24px\">\n",
              "    <g>\n",
              "        <path d=\"M19 3H5c-1.1 0-2 .9-2 2v14c0 1.1.9 2 2 2h14c1.1 0 2-.9 2-2V5c0-1.1-.9-2-2-2zM9 17H7v-7h2v7zm4 0h-2V7h2v10zm4 0h-2v-4h2v4z\"/>\n",
              "    </g>\n",
              "</svg>\n",
              "  </button>\n",
              "\n",
              "<style>\n",
              "  .colab-df-quickchart {\n",
              "      --bg-color: #E8F0FE;\n",
              "      --fill-color: #1967D2;\n",
              "      --hover-bg-color: #E2EBFA;\n",
              "      --hover-fill-color: #174EA6;\n",
              "      --disabled-fill-color: #AAA;\n",
              "      --disabled-bg-color: #DDD;\n",
              "  }\n",
              "\n",
              "  [theme=dark] .colab-df-quickchart {\n",
              "      --bg-color: #3B4455;\n",
              "      --fill-color: #D2E3FC;\n",
              "      --hover-bg-color: #434B5C;\n",
              "      --hover-fill-color: #FFFFFF;\n",
              "      --disabled-bg-color: #3B4455;\n",
              "      --disabled-fill-color: #666;\n",
              "  }\n",
              "\n",
              "  .colab-df-quickchart {\n",
              "    background-color: var(--bg-color);\n",
              "    border: none;\n",
              "    border-radius: 50%;\n",
              "    cursor: pointer;\n",
              "    display: none;\n",
              "    fill: var(--fill-color);\n",
              "    height: 32px;\n",
              "    padding: 0;\n",
              "    width: 32px;\n",
              "  }\n",
              "\n",
              "  .colab-df-quickchart:hover {\n",
              "    background-color: var(--hover-bg-color);\n",
              "    box-shadow: 0 1px 2px rgba(60, 64, 67, 0.3), 0 1px 3px 1px rgba(60, 64, 67, 0.15);\n",
              "    fill: var(--button-hover-fill-color);\n",
              "  }\n",
              "\n",
              "  .colab-df-quickchart-complete:disabled,\n",
              "  .colab-df-quickchart-complete:disabled:hover {\n",
              "    background-color: var(--disabled-bg-color);\n",
              "    fill: var(--disabled-fill-color);\n",
              "    box-shadow: none;\n",
              "  }\n",
              "\n",
              "  .colab-df-spinner {\n",
              "    border: 2px solid var(--fill-color);\n",
              "    border-color: transparent;\n",
              "    border-bottom-color: var(--fill-color);\n",
              "    animation:\n",
              "      spin 1s steps(1) infinite;\n",
              "  }\n",
              "\n",
              "  @keyframes spin {\n",
              "    0% {\n",
              "      border-color: transparent;\n",
              "      border-bottom-color: var(--fill-color);\n",
              "      border-left-color: var(--fill-color);\n",
              "    }\n",
              "    20% {\n",
              "      border-color: transparent;\n",
              "      border-left-color: var(--fill-color);\n",
              "      border-top-color: var(--fill-color);\n",
              "    }\n",
              "    30% {\n",
              "      border-color: transparent;\n",
              "      border-left-color: var(--fill-color);\n",
              "      border-top-color: var(--fill-color);\n",
              "      border-right-color: var(--fill-color);\n",
              "    }\n",
              "    40% {\n",
              "      border-color: transparent;\n",
              "      border-right-color: var(--fill-color);\n",
              "      border-top-color: var(--fill-color);\n",
              "    }\n",
              "    60% {\n",
              "      border-color: transparent;\n",
              "      border-right-color: var(--fill-color);\n",
              "    }\n",
              "    80% {\n",
              "      border-color: transparent;\n",
              "      border-right-color: var(--fill-color);\n",
              "      border-bottom-color: var(--fill-color);\n",
              "    }\n",
              "    90% {\n",
              "      border-color: transparent;\n",
              "      border-bottom-color: var(--fill-color);\n",
              "    }\n",
              "  }\n",
              "</style>\n",
              "\n",
              "  <script>\n",
              "    async function quickchart(key) {\n",
              "      const quickchartButtonEl =\n",
              "        document.querySelector('#' + key + ' button');\n",
              "      quickchartButtonEl.disabled = true;  // To prevent multiple clicks.\n",
              "      quickchartButtonEl.classList.add('colab-df-spinner');\n",
              "      try {\n",
              "        const charts = await google.colab.kernel.invokeFunction(\n",
              "            'suggestCharts', [key], {});\n",
              "      } catch (error) {\n",
              "        console.error('Error during call to suggestCharts:', error);\n",
              "      }\n",
              "      quickchartButtonEl.classList.remove('colab-df-spinner');\n",
              "      quickchartButtonEl.classList.add('colab-df-quickchart-complete');\n",
              "    }\n",
              "    (() => {\n",
              "      let quickchartButtonEl =\n",
              "        document.querySelector('#df-1a3018c4-5a7f-497d-84fe-fd5f64be6032 button');\n",
              "      quickchartButtonEl.style.display =\n",
              "        google.colab.kernel.accessAllowed ? 'block' : 'none';\n",
              "    })();\n",
              "  </script>\n",
              "</div>\n",
              "\n",
              "    </div>\n",
              "  </div>\n"
            ],
            "application/vnd.google.colaboratory.intrinsic+json": {
              "type": "dataframe",
              "variable_name": "tienda",
              "summary": "{\n  \"name\": \"tienda\",\n  \"rows\": 2359,\n  \"fields\": [\n    {\n      \"column\": \"Producto\",\n      \"properties\": {\n        \"dtype\": \"category\",\n        \"num_unique_values\": 51,\n        \"samples\": [\n          \"Guitarra ac\\u00fastica\",\n          \"Bal\\u00f3n de baloncesto\",\n          \"Smartwatch\"\n        ],\n        \"semantic_type\": \"\",\n        \"description\": \"\"\n      }\n    },\n    {\n      \"column\": \"Categor\\u00eda del Producto\",\n      \"properties\": {\n        \"dtype\": \"category\",\n        \"num_unique_values\": 8,\n        \"samples\": [\n          \"Muebles\",\n          \"Deportes y diversi\\u00f3n\",\n          \"Electr\\u00f3nicos\"\n        ],\n        \"semantic_type\": \"\",\n        \"description\": \"\"\n      }\n    },\n    {\n      \"column\": \"Precio\",\n      \"properties\": {\n        \"dtype\": \"number\",\n        \"std\": 614686.7653873172,\n        \"min\": 7600.0,\n        \"max\": 2977000.0,\n        \"num_unique_values\": 1937,\n        \"samples\": [\n          2499400.0,\n          14800.0,\n          80500.0\n        ],\n        \"semantic_type\": \"\",\n        \"description\": \"\"\n      }\n    },\n    {\n      \"column\": \"Costo de env\\u00edo\",\n      \"properties\": {\n        \"dtype\": \"number\",\n        \"std\": 32860.0017825605,\n        \"min\": 0.0,\n        \"max\": 160800.0,\n        \"num_unique_values\": 753,\n        \"samples\": [\n          117800.0,\n          54700.0,\n          45600.0\n        ],\n        \"semantic_type\": \"\",\n        \"description\": \"\"\n      }\n    },\n    {\n      \"column\": \"Fecha de Compra\",\n      \"properties\": {\n        \"dtype\": \"object\",\n        \"num_unique_values\": 1018,\n        \"samples\": [\n          \"15/09/2022\",\n          \"03/06/2020\",\n          \"06/11/2021\"\n        ],\n        \"semantic_type\": \"\",\n        \"description\": \"\"\n      }\n    },\n    {\n      \"column\": \"Vendedor\",\n      \"properties\": {\n        \"dtype\": \"category\",\n        \"num_unique_values\": 14,\n        \"samples\": [\n          \"Juliana Costa\",\n          \"Mariana Herrera\",\n          \"Pedro Gomez\"\n        ],\n        \"semantic_type\": \"\",\n        \"description\": \"\"\n      }\n    },\n    {\n      \"column\": \"Lugar de Compra\",\n      \"properties\": {\n        \"dtype\": \"category\",\n        \"num_unique_values\": 19,\n        \"samples\": [\n          \"Bogot\\u00e1\",\n          \"Pereira\",\n          \"Neiva\"\n        ],\n        \"semantic_type\": \"\",\n        \"description\": \"\"\n      }\n    },\n    {\n      \"column\": \"Calificaci\\u00f3n\",\n      \"properties\": {\n        \"dtype\": \"number\",\n        \"std\": 1,\n        \"min\": 1,\n        \"max\": 5,\n        \"num_unique_values\": 5,\n        \"samples\": [\n          1,\n          2,\n          5\n        ],\n        \"semantic_type\": \"\",\n        \"description\": \"\"\n      }\n    },\n    {\n      \"column\": \"M\\u00e9todo de pago\",\n      \"properties\": {\n        \"dtype\": \"category\",\n        \"num_unique_values\": 4,\n        \"samples\": [\n          \"Nequi\",\n          \"Tarjeta de d\\u00e9bito\",\n          \"Tarjeta de cr\\u00e9dito\"\n        ],\n        \"semantic_type\": \"\",\n        \"description\": \"\"\n      }\n    },\n    {\n      \"column\": \"Cantidad de cuotas\",\n      \"properties\": {\n        \"dtype\": \"number\",\n        \"std\": 2,\n        \"min\": 1,\n        \"max\": 24,\n        \"num_unique_values\": 15,\n        \"samples\": [\n          7,\n          14,\n          8\n        ],\n        \"semantic_type\": \"\",\n        \"description\": \"\"\n      }\n    },\n    {\n      \"column\": \"lat\",\n      \"properties\": {\n        \"dtype\": \"number\",\n        \"std\": 2.2874452492678627,\n        \"min\": -4.21528,\n        \"max\": 11.54444,\n        \"num_unique_values\": 19,\n        \"samples\": [\n          4.60971,\n          4.81333,\n          2.9273\n        ],\n        \"semantic_type\": \"\",\n        \"description\": \"\"\n      }\n    },\n    {\n      \"column\": \"lon\",\n      \"properties\": {\n        \"dtype\": \"number\",\n        \"std\": 1.2178272727088486,\n        \"min\": -77.28111,\n        \"max\": -67.9239,\n        \"num_unique_values\": 19,\n        \"samples\": [\n          -74.08175,\n          -75.69611,\n          -75.28189\n        ],\n        \"semantic_type\": \"\",\n        \"description\": \"\"\n      }\n    }\n  ]\n}"
            }
          },
          "metadata": {},
          "execution_count": 18
        }
      ],
      "source": [
        "import pandas as pd\n",
        "\n",
        "url = \"https://raw.githubusercontent.com/alura-es-cursos/challenge1-data-science-latam/refs/heads/main/base-de-datos-challenge1-latam/tienda_1%20.csv\"\n",
        "url2 = \"https://raw.githubusercontent.com/alura-es-cursos/challenge1-data-science-latam/refs/heads/main/base-de-datos-challenge1-latam/tienda_2.csv\"\n",
        "url3 = \"https://raw.githubusercontent.com/alura-es-cursos/challenge1-data-science-latam/refs/heads/main/base-de-datos-challenge1-latam/tienda_3.csv\"\n",
        "url4 = \"https://raw.githubusercontent.com/alura-es-cursos/challenge1-data-science-latam/refs/heads/main/base-de-datos-challenge1-latam/tienda_4.csv\"\n",
        "\n",
        "tienda = pd.read_csv(url)\n",
        "tienda2 = pd.read_csv(url2)\n",
        "tienda3 = pd.read_csv(url3)\n",
        "tienda4 = pd.read_csv(url4)\n",
        "\n",
        "tienda.head()\n",
        "\n"
      ]
    },
    {
      "cell_type": "markdown",
      "source": [
        "#1. Análisis de facturación\n",
        "\n"
      ],
      "metadata": {
        "id": "X62IW3KFUIYm"
      }
    },
    {
      "cell_type": "markdown",
      "source": [
        "Calcular el ingreso total de cada tienda. Sumando los valores de la columna Precio de cada conjunto de datos de la tienda para estimar los ingresos."
      ],
      "metadata": {
        "id": "tdrJfzZhLTG3"
      }
    },
    {
      "cell_type": "code",
      "source": [
        "total_tienda_1 = tienda['Precio'].sum()\n",
        "print(f'El total de la tienda 1 es: {total_tienda_1}')"
      ],
      "metadata": {
        "colab": {
          "base_uri": "https://localhost:8080/"
        },
        "id": "LocoZ7XFLVv4",
        "outputId": "9334f430-62f8-446b-8e28-0b880176475b"
      },
      "execution_count": null,
      "outputs": [
        {
          "output_type": "stream",
          "name": "stdout",
          "text": [
            "El total de la tienda 1 es: 1150880400.0\n"
          ]
        }
      ]
    },
    {
      "cell_type": "code",
      "source": [
        "total_tienda_2 = tienda2['Precio'].sum()\n",
        "print(f'El total de la tienda 2 es: {total_tienda_2}')"
      ],
      "metadata": {
        "id": "xykobSftV64I",
        "colab": {
          "base_uri": "https://localhost:8080/"
        },
        "outputId": "eb684266-c753-4c51-c5e7-bdfc3399e8d7"
      },
      "execution_count": null,
      "outputs": [
        {
          "output_type": "stream",
          "name": "stdout",
          "text": [
            "El total de la tienda 2 es: 1116343500.0\n"
          ]
        }
      ]
    },
    {
      "cell_type": "code",
      "source": [
        "total_tienda_3 = tienda3['Precio'].sum()\n",
        "print(f'El total de la tienda 3 es: {total_tienda_3}')"
      ],
      "metadata": {
        "colab": {
          "base_uri": "https://localhost:8080/"
        },
        "id": "irKhSH2FTQyl",
        "outputId": "13d2bd60-fbcc-48f9-9f89-ece9ba06bdae"
      },
      "execution_count": null,
      "outputs": [
        {
          "output_type": "stream",
          "name": "stdout",
          "text": [
            "El total de la tienda 3 es: 1098019600.0\n"
          ]
        }
      ]
    },
    {
      "cell_type": "code",
      "source": [
        "total_tienda_4 = tienda4['Precio'].sum()\n",
        "print(f'El total de la tienda 4 es: {total_tienda_4}')"
      ],
      "metadata": {
        "colab": {
          "base_uri": "https://localhost:8080/"
        },
        "id": "sjkKZW8zTRJo",
        "outputId": "605031c4-57a2-4b31-ef11-6175e9513c3e"
      },
      "execution_count": null,
      "outputs": [
        {
          "output_type": "stream",
          "name": "stdout",
          "text": [
            "El total de la tienda 4 es: 1038375700.0\n"
          ]
        }
      ]
    },
    {
      "cell_type": "code",
      "source": [
        "total_tiendas = [total_tienda_1,total_tienda_2,total_tienda_3,total_tienda_4]\n",
        "total_float_tiendas = [float(i) for i in total_tiendas]\n",
        "total_float_tiendas\n"
      ],
      "metadata": {
        "id": "7ACFKRwcEpot",
        "outputId": "47a3231e-87d1-44df-ef59-fd258b179591",
        "colab": {
          "base_uri": "https://localhost:8080/"
        }
      },
      "execution_count": null,
      "outputs": [
        {
          "output_type": "execute_result",
          "data": {
            "text/plain": [
              "[1150880400.0, 1116343500.0, 1098019600.0, 1038375700.0]"
            ]
          },
          "metadata": {},
          "execution_count": 34
        }
      ]
    },
    {
      "cell_type": "code",
      "source": [
        "tiendas= ['Tienda 1', 'Tienda 2', 'Tienda 3', 'Tienda 4']\n",
        "tiendas"
      ],
      "metadata": {
        "id": "u0B3ZSa-Gthv",
        "outputId": "d4eb7a6a-445c-4685-9981-fe4dfe9406ee",
        "colab": {
          "base_uri": "https://localhost:8080/"
        }
      },
      "execution_count": null,
      "outputs": [
        {
          "output_type": "execute_result",
          "data": {
            "text/plain": [
              "['Tienda 1', 'Tienda 2', 'Tienda 3', 'Tienda 4']"
            ]
          },
          "metadata": {},
          "execution_count": 56
        }
      ]
    },
    {
      "cell_type": "code",
      "source": [
        "%matplotlib inline\n",
        "import matplotlib.pyplot as plt\n",
        "\n",
        "categorías = tiendas\n",
        "valores = total_float_tiendas\n",
        "# Crear el gráfico de pastel\n",
        "plt.pie(valores, labels=categorías, autopct='%1.1f%%')\n",
        "\n",
        "# Añadir título\n",
        "plt.title(\"Porcentaje de Ingresos por Facturacion\")\n",
        "\n",
        "# Mostrar el gráfico\n",
        "plt.show()"
      ],
      "metadata": {
        "id": "3eBm1qB4aHxe",
        "outputId": "89ae1522-eda1-4083-faef-5f816288873c",
        "colab": {
          "base_uri": "https://localhost:8080/",
          "height": 428
        }
      },
      "execution_count": null,
      "outputs": [
        {
          "output_type": "display_data",
          "data": {
            "text/plain": [
              "<Figure size 640x480 with 1 Axes>"
            ],
            "image/png": "[encoded data removed]"
          },
          "metadata": {}
        }
      ]
    },
    {
      "cell_type": "markdown",
      "source": [
        "# 2. Ventas por categoría"
      ],
      "metadata": {
        "id": "2V_vcAPzWZmR"
      }
    },
    {
      "cell_type": "markdown",
      "source": [
        " Calcular la cantidad de productos vendidos por categoría en cada tienda. La idea es agrupar los datos por categoría y contar el número de ventas de cada tipo, mostrando las categorías más populares de cada tienda."
      ],
      "metadata": {
        "id": "18blwN3kT_Lo"
      }
    },
    {
      "cell_type": "code",
      "source": [
        "#Aca importo la coleccion para contar cuantas veces se repite cada categoria\n",
        "from collections import Counter\n",
        "#ingreso la lista importandola\n",
        "categorias_tienda_1 = tienda['Categoría del Producto'].tolist()\n",
        "#creo el contador que agrupa los datos por categoria indicando cual es el item de la lista que mas se repite\n",
        "conteo = Counter(categorias_tienda_1)\n",
        "#creo el contador de los items que mas se repiten o mas populares\n",
        "populares = conteo.most_common()\n",
        "print(populares)"
      ],
      "metadata": {
        "id": "yZR6cOjXYSk1",
        "colab": {
          "base_uri": "https://localhost:8080/"
        },
        "outputId": "bb49ef2f-65c6-4418-de0c-4ecbe62741c5"
      },
      "execution_count": null,
      "outputs": [
        {
          "output_type": "stream",
          "name": "stdout",
          "text": [
            "[('Muebles', 465), ('Electrónicos', 448), ('Juguetes', 324), ('Electrodomésticos', 312), ('Deportes y diversión', 284), ('Instrumentos musicales', 182), ('Libros', 173), ('Artículos para el hogar', 171)]\n"
          ]
        }
      ]
    },
    {
      "cell_type": "code",
      "source": [
        "from collections import Counter\n",
        "categorias_tienda_2 = tienda2['Categoría del Producto'].tolist()\n",
        "conteo = Counter(categorias_tienda_2)\n",
        "populares = conteo.most_common()\n",
        "print(populares)"
      ],
      "metadata": {
        "colab": {
          "base_uri": "https://localhost:8080/"
        },
        "id": "b2Kbwhs3cyGJ",
        "outputId": "33718418-1518-4e0a-d93f-14ca18c14321"
      },
      "execution_count": null,
      "outputs": [
        {
          "output_type": "stream",
          "name": "stdout",
          "text": [
            "[('Muebles', 442), ('Electrónicos', 422), ('Juguetes', 313), ('Electrodomésticos', 305), ('Deportes y diversión', 275), ('Instrumentos musicales', 224), ('Libros', 197), ('Artículos para el hogar', 181)]\n"
          ]
        }
      ]
    },
    {
      "cell_type": "code",
      "source": [
        "from collections import Counter\n",
        "categorias_tienda_3 = tienda3['Categoría del Producto'].tolist()\n",
        "conteo = Counter(categorias_tienda_3)\n",
        "populares = conteo.most_common()\n",
        "print(populares)"
      ],
      "metadata": {
        "colab": {
          "base_uri": "https://localhost:8080/"
        },
        "id": "qXk3DipWczKA",
        "outputId": "857585df-3927-4016-ce02-b8ce973d38c3"
      },
      "execution_count": null,
      "outputs": [
        {
          "output_type": "stream",
          "name": "stdout",
          "text": [
            "[('Muebles', 499), ('Electrónicos', 451), ('Juguetes', 315), ('Electrodomésticos', 278), ('Deportes y diversión', 277), ('Libros', 185), ('Instrumentos musicales', 177), ('Artículos para el hogar', 177)]\n"
          ]
        }
      ]
    },
    {
      "cell_type": "code",
      "source": [
        "from collections import Counter\n",
        "categorias_tienda_4 = tienda4['Categoría del Producto'].tolist()\n",
        "conteo = Counter(categorias_tienda_4)\n",
        "populares = conteo.most_common()\n",
        "print(populares)"
      ],
      "metadata": {
        "colab": {
          "base_uri": "https://localhost:8080/"
        },
        "id": "lEYQ_hnlgL54",
        "outputId": "c28322dd-53aa-4e34-851e-fef608ec84e2"
      },
      "execution_count": null,
      "outputs": [
        {
          "output_type": "stream",
          "name": "stdout",
          "text": [
            "[('Muebles', 480), ('Electrónicos', 451), ('Juguetes', 338), ('Deportes y diversión', 277), ('Electrodomésticos', 254), ('Artículos para el hogar', 201), ('Libros', 187), ('Instrumentos musicales', 170)]\n"
          ]
        }
      ]
    },
    {
      "cell_type": "markdown",
      "source": [
        "# 3. Calificación promedio de la tienda\n"
      ],
      "metadata": {
        "id": "Rq6tU_xSY3jk"
      }
    },
    {
      "cell_type": "markdown",
      "source": [
        "Calcular las calificaciones promedio de los clientes para cada tienda. El objetivo es conocer la satisfacción del cliente con los productos vendidos."
      ],
      "metadata": {
        "id": "xJgGxubuqZ6g"
      }
    },
    {
      "cell_type": "code",
      "source": [
        "#se calcula el promedio\n",
        "calificacion_tienda1=tienda['Calificación'].mean()\n",
        "#el promedio se redondea a maximo 2 decimales\n",
        "round_calificacion_tienda1= round(calificacion_tienda1,2)\n",
        "print(round_calificacion_tienda1)"
      ],
      "metadata": {
        "id": "bh3jjjJwY5MU",
        "colab": {
          "base_uri": "https://localhost:8080/"
        },
        "outputId": "9c0f52fb-f686-435b-ee85-4fb916fa2d9d"
      },
      "execution_count": null,
      "outputs": [
        {
          "output_type": "stream",
          "name": "stdout",
          "text": [
            "3.98\n"
          ]
        }
      ]
    },
    {
      "cell_type": "code",
      "source": [
        "calificacion_tienda2=tienda2['Calificación'].mean()\n",
        "round_calificacion_tienda2= round(calificacion_tienda2,2)\n",
        "print(round_calificacion_tienda2)"
      ],
      "metadata": {
        "id": "I0KkjPoTY88F",
        "colab": {
          "base_uri": "https://localhost:8080/"
        },
        "outputId": "9cb478c1-c13e-48cb-a82f-eb53f81ca932"
      },
      "execution_count": null,
      "outputs": [
        {
          "output_type": "stream",
          "name": "stdout",
          "text": [
            "4.04\n"
          ]
        }
      ]
    },
    {
      "cell_type": "code",
      "source": [
        "calificacion_tienda3=tienda3['Calificación'].mean()\n",
        "round_calificacion_tienda3= round(calificacion_tienda3,2)\n",
        "print(round_calificacion_tienda3)"
      ],
      "metadata": {
        "colab": {
          "base_uri": "https://localhost:8080/"
        },
        "id": "YI_azWHZqK-l",
        "outputId": "6d46f49d-9daf-4c6e-e1d3-a57aa495c6ea"
      },
      "execution_count": null,
      "outputs": [
        {
          "output_type": "stream",
          "name": "stdout",
          "text": [
            "4.05\n"
          ]
        }
      ]
    },
    {
      "cell_type": "code",
      "source": [
        "calificacion_tienda4=tienda4['Calificación'].mean()\n",
        "round_calificacion_tienda4= round(calificacion_tienda4,2)\n",
        "print(round_calificacion_tienda4)"
      ],
      "metadata": {
        "colab": {
          "base_uri": "https://localhost:8080/"
        },
        "id": "8urTrvG0qLLw",
        "outputId": "e6f8e32f-a187-417f-be25-60f7e8eec2af"
      },
      "execution_count": null,
      "outputs": [
        {
          "output_type": "stream",
          "name": "stdout",
          "text": [
            "4.0\n"
          ]
        }
      ]
    },
    {
      "cell_type": "markdown",
      "source": [
        "# 4. Productos más y menos vendidos"
      ],
      "metadata": {
        "id": "DmNp1KPBZCm-"
      }
    },
    {
      "cell_type": "markdown",
      "source": [
        "Qué productos fueron los más vendidos y los menos vendidos en cada tienda. Visualiza los resultados para que quede claro qué productos destacaron en ventas en cada tienda."
      ],
      "metadata": {
        "id": "1u2TKWrJrGYX"
      }
    },
    {
      "cell_type": "code",
      "source": [
        "#Aca importo la coleccion para contar cuantas veces se repite cada categoria\n",
        "from collections import Counter\n",
        "#ingreso la lista importandola\n",
        "productos_tienda_1 = tienda['Producto'].tolist()\n",
        "#creo el contador que agrupa los datos por categoria indicando cual es el item de la lista que mas se repite\n",
        "conteo = Counter(productos_tienda_1)\n",
        "#creo el contador de los items que mas se repiten o mas populares\n",
        "productos_populares = conteo.most_common()\n",
        "print(productos_populares)"
      ],
      "metadata": {
        "id": "qoyjqijQZHfF",
        "colab": {
          "base_uri": "https://localhost:8080/"
        },
        "outputId": "c5c52852-b832-4f3a-d2e3-95b0e972c606"
      },
      "execution_count": null,
      "outputs": [
        {
          "output_type": "stream",
          "name": "stdout",
          "text": [
            "[('Microondas', 60), ('TV LED UHD 4K', 60), ('Armario', 60), ('Secadora de ropa', 58), ('Bloques de construcción', 56), ('Mesa de noche', 56), ('Balón de baloncesto', 55), ('Refrigerador', 54), ('Bicicleta', 54), ('Vaso térmico', 54), ('Impresora', 54), ('Batería', 53), ('Carrito de control remoto', 52), ('Cubertería', 52), ('Modelado predictivo', 51), ('Auriculares', 50), ('Ajedrez de madera', 49), ('Iphone 15', 49), ('Lavavajillas', 48), ('Lavadora de ropa', 47), ('Guitarra eléctrica', 47), ('Silla de oficina', 46), ('Sofá reclinable', 46), ('Guitarra acústica', 46), ('Estufa', 45), ('Kit de bancas', 44), ('Cama box', 44), ('Cubo mágico 8x8', 44), ('Mesa de centro', 44), ('Cama king', 44), ('Smart TV', 44), ('Juego de mesa', 43), ('Set de ollas', 43), ('Smartwatch', 43), ('Balón de voleibol', 42), ('Dashboards con Power BI', 42), ('Tablet ABXY', 42), ('Set de vasos', 41), ('Sillón', 41), ('Iniciando en programación', 41), ('Asistente virtual', 40), ('Mesa de comedor', 40), ('Muñeca bebé', 40), ('Cuerda para saltar', 40), ('Dinosaurio Rex', 40), ('Ciencia de datos con Python', 39), ('Mochila', 39), ('Pandereta', 36), ('Olla de presión', 35), ('Auriculares con micrófono', 33), ('Celular ABXY', 33)]\n"
          ]
        }
      ]
    },
    {
      "cell_type": "code",
      "source": [
        "from collections import Counter\n",
        "productos_tienda_2 = tienda2['Producto'].tolist()\n",
        "conteo = Counter(productos_tienda_2)\n",
        "productos_populares = conteo.most_common()\n",
        "print(productos_populares)"
      ],
      "metadata": {
        "id": "0Sw3sd4IZIGW",
        "colab": {
          "base_uri": "https://localhost:8080/"
        },
        "outputId": "e8e8cd7f-7dc8-482e-daff-872f34cea755"
      },
      "execution_count": null,
      "outputs": [
        {
          "output_type": "stream",
          "name": "stdout",
          "text": [
            "[('Iniciando en programación', 65), ('Microondas', 62), ('Batería', 61), ('Pandereta', 58), ('Guitarra acústica', 58), ('Secadora de ropa', 57), ('Iphone 15', 55), ('Bloques de construcción', 54), ('Armario', 54), ('Set de ollas', 52), ('Cuerda para saltar', 50), ('Silla de oficina', 49), ('Refrigerador', 49), ('Lavadora de ropa', 49), ('Muñeca bebé', 48), ('Vaso térmico', 47), ('Guitarra eléctrica', 47), ('Cama box', 47), ('Carrito de control remoto', 47), ('Modelado predictivo', 46), ('Set de vasos', 46), ('Lavavajillas', 46), ('Balón de voleibol', 46), ('Cama king', 45), ('Mochila', 45), ('Cubo mágico 8x8', 45), ('Ajedrez de madera', 45), ('Bicicleta', 45), ('TV LED UHD 4K', 45), ('Mesa de centro', 45), ('Kit de bancas', 45), ('Tablet ABXY', 44), ('Olla de presión', 44), ('Auriculares con micrófono', 44), ('Sofá reclinable', 44), ('Smartwatch', 44), ('Mesa de noche', 44), ('Dashboards con Power BI', 43), ('Ciencia de datos con Python', 43), ('Estufa', 42), ('Dinosaurio Rex', 42), ('Balón de baloncesto', 42), ('Celular ABXY', 41), ('Smart TV', 40), ('Cubertería', 39), ('Asistente virtual', 38), ('Auriculares', 37), ('Sillón', 35), ('Mesa de comedor', 34), ('Impresora', 34), ('Juego de mesa', 32)]\n"
          ]
        }
      ]
    },
    {
      "cell_type": "code",
      "source": [
        "from collections import Counter\n",
        "productos_tienda_3 = tienda3['Producto'].tolist()\n",
        "conteo = Counter(productos_tienda_3)\n",
        "productos_populares = conteo.most_common()\n",
        "print(productos_populares)"
      ],
      "metadata": {
        "colab": {
          "base_uri": "https://localhost:8080/"
        },
        "id": "4t29q33EsD_N",
        "outputId": "5fc5b1de-734d-4463-8644-1337e62f8bea"
      },
      "execution_count": null,
      "outputs": [
        {
          "output_type": "stream",
          "name": "stdout",
          "text": [
            "[('Kit de bancas', 57), ('Mesa de comedor', 56), ('Cama king', 56), ('Mesa de noche', 55), ('Set de ollas', 55), ('Smart TV', 54), ('Modelado predictivo', 53), ('Cuerda para saltar', 53), ('Estufa', 53), ('Carrito de control remoto', 52), ('Bicicleta', 52), ('Lavavajillas', 52), ('Juego de mesa', 52), ('Pandereta', 51), ('Impresora', 50), ('Balón de baloncesto', 50), ('Refrigerador', 50), ('Armario', 49), ('Balón de voleibol', 48), ('Tablet ABXY', 48), ('Guitarra acústica', 47), ('Olla de presión', 47), ('Ajedrez de madera', 47), ('Sillón', 47), ('Silla de oficina', 46), ('Dinosaurio Rex', 46), ('Iniciando en programación', 46), ('Cama box', 46), ('Iphone 15', 46), ('Smartwatch', 46), ('Ciencia de datos con Python', 46), ('Secadora de ropa', 45), ('Sofá reclinable', 45), ('Celular ABXY', 44), ('Cubo mágico 8x8', 44), ('Auriculares', 43), ('TV LED UHD 4K', 42), ('Lavadora de ropa', 42), ('Mesa de centro', 42), ('Batería', 41), ('Dashboards con Power BI', 40), ('Cubertería', 39), ('Muñeca bebé', 39), ('Auriculares con micrófono', 39), ('Asistente virtual', 39), ('Guitarra eléctrica', 38), ('Vaso térmico', 38), ('Set de vasos', 36), ('Mochila', 36), ('Microondas', 36), ('Bloques de construcción', 35)]\n"
          ]
        }
      ]
    },
    {
      "cell_type": "code",
      "source": [
        "from collections import Counter\n",
        "productos_tienda_4 = tienda4['Producto'].tolist()\n",
        "conteo = Counter(productos_tienda_4)\n",
        "productos_populares = conteo.most_common()\n",
        "print(productos_populares)"
      ],
      "metadata": {
        "colab": {
          "base_uri": "https://localhost:8080/"
        },
        "id": "QYyzq5pHsELD",
        "outputId": "2f904432-6ec1-46f6-969b-7727d8734beb"
      },
      "execution_count": null,
      "outputs": [
        {
          "output_type": "stream",
          "name": "stdout",
          "text": [
            "[('Cama box', 62), ('Cubertería', 59), ('Dashboards con Power BI', 56), ('Cama king', 56), ('Mesa de noche', 55), ('Mesa de comedor', 55), ('Carrito de control remoto', 55), ('Smart TV', 54), ('Bloques de construcción', 54), ('Pandereta', 52), ('Balón de baloncesto', 50), ('Modelado predictivo', 50), ('Impresora', 50), ('Asistente virtual', 50), ('Set de ollas', 50), ('Iphone 15', 48), ('Muñeca bebé', 48), ('Balón de voleibol', 48), ('Vaso térmico', 48), ('Batería', 48), ('Juego de mesa', 48), ('Microondas', 48), ('Estufa', 47), ('Dinosaurio Rex', 47), ('Cubo mágico 8x8', 47), ('Sofá reclinable', 47), ('Set de vasos', 46), ('Olla de presión', 46), ('Tablet ABXY', 45), ('Bicicleta', 45), ('Sillón', 45), ('Auriculares', 44), ('Mesa de centro', 44), ('Lavavajillas', 43), ('Cuerda para saltar', 43), ('Iniciando en programación', 43), ('Mochila', 43), ('Auriculares con micrófono', 42), ('Kit de bancas', 42), ('Silla de oficina', 40), ('Secadora de ropa', 40), ('TV LED UHD 4K', 40), ('Celular ABXY', 39), ('Ajedrez de madera', 39), ('Smartwatch', 39), ('Refrigerador', 38), ('Lavadora de ropa', 38), ('Ciencia de datos con Python', 38), ('Guitarra acústica', 37), ('Armario', 34), ('Guitarra eléctrica', 33)]\n"
          ]
        }
      ]
    },
    {
      "cell_type": "code",
      "source": [
        "from collections import Counter\n",
        "productos_tiendas = productos_tienda_1+productos_tienda_2+productos_tienda_3+productos_tienda_4\n",
        "conteo_productos_tiendas = Counter(productos_tiendas)\n",
        "productos_populares = conteo_productos_tiendas.most_common()\n",
        "productos_populares\n"
      ],
      "metadata": {
        "id": "OCXOIy5KQFAw",
        "outputId": "4ce363de-e941-43a9-f1db-4526f6e12541",
        "colab": {
          "base_uri": "https://localhost:8080/"
        }
      },
      "execution_count": null,
      "outputs": [
        {
          "output_type": "execute_result",
          "data": {
            "text/plain": [
              "[('Mesa de noche', 210),\n",
              " ('Microondas', 206),\n",
              " ('Carrito de control remoto', 206),\n",
              " ('Batería', 203),\n",
              " ('Cama king', 201),\n",
              " ('Set de ollas', 200),\n",
              " ('Secadora de ropa', 200),\n",
              " ('Modelado predictivo', 200),\n",
              " ('Bloques de construcción', 199),\n",
              " ('Cama box', 199),\n",
              " ('Iphone 15', 198),\n",
              " ('Armario', 197),\n",
              " ('Balón de baloncesto', 197),\n",
              " ('Pandereta', 197),\n",
              " ('Bicicleta', 196),\n",
              " ('Iniciando en programación', 195),\n",
              " ('Smart TV', 192),\n",
              " ('Refrigerador', 191),\n",
              " ('Lavavajillas', 189),\n",
              " ('Cubertería', 189),\n",
              " ('Kit de bancas', 188),\n",
              " ('Impresora', 188),\n",
              " ('Guitarra acústica', 188),\n",
              " ('TV LED UHD 4K', 187),\n",
              " ('Vaso térmico', 187),\n",
              " ('Estufa', 187),\n",
              " ('Cuerda para saltar', 186),\n",
              " ('Mesa de comedor', 185),\n",
              " ('Balón de voleibol', 184),\n",
              " ('Sofá reclinable', 182),\n",
              " ('Silla de oficina', 181),\n",
              " ('Dashboards con Power BI', 181),\n",
              " ('Ajedrez de madera', 180),\n",
              " ('Cubo mágico 8x8', 180),\n",
              " ('Tablet ABXY', 179),\n",
              " ('Lavadora de ropa', 176),\n",
              " ('Juego de mesa', 175),\n",
              " ('Muñeca bebé', 175),\n",
              " ('Dinosaurio Rex', 175),\n",
              " ('Mesa de centro', 175),\n",
              " ('Auriculares', 174),\n",
              " ('Olla de presión', 172),\n",
              " ('Smartwatch', 172),\n",
              " ('Set de vasos', 169),\n",
              " ('Sillón', 168),\n",
              " ('Asistente virtual', 167),\n",
              " ('Ciencia de datos con Python', 166),\n",
              " ('Guitarra eléctrica', 165),\n",
              " ('Mochila', 163),\n",
              " ('Auriculares con micrófono', 158),\n",
              " ('Celular ABXY', 157)]"
            ]
          },
          "metadata": {},
          "execution_count": 108
        }
      ]
    },
    {
      "cell_type": "code",
      "source": [
        "import matplotlib.pyplot as plt\n",
        "x, y = zip(*productos_populares)\n",
        "plt.figure(figsize=(10, 10))\n",
        "plt.barh(x,y)\n",
        "plt.title(\"Productos menos y mas vendidos\")\n",
        "plt.show()"
      ],
      "metadata": {
        "id": "U6f0Ee1hbDxD",
        "outputId": "760ff685-c3e6-4113-e3a6-fc786663d2ba",
        "colab": {
          "base_uri": "https://localhost:8080/",
          "height": 853
        }
      },
      "execution_count": null,
      "outputs": [
        {
          "output_type": "display_data",
          "data": {
            "text/plain": [
              "<Figure size 1000x1000 with 1 Axes>"
            ],
            "image/png": "[encoded data removed]"
          },
          "metadata": {}
        }
      ]
    },
    {
      "cell_type": "markdown",
      "source": [
        "# 5. Envío promedio por tienda"
      ],
      "metadata": {
        "id": "Fl0cGi3bZKqU"
      }
    },
    {
      "cell_type": "markdown",
      "source": [
        "Calcular el costo de envío promedio para cada tienda. El objetivo es comprender cuánto se gasta, en promedio, en el envío de cada tienda."
      ],
      "metadata": {
        "id": "3VxROPL-tE_k"
      }
    },
    {
      "cell_type": "code",
      "source": [
        "costo_envio_tienda1=tienda['Costo de envío'].mean()\n",
        "round_costo_envio_tienda1= round(costo_envio_tienda1)\n",
        "print(round_costo_envio_tienda1)"
      ],
      "metadata": {
        "id": "S2JeaCykZNy9",
        "colab": {
          "base_uri": "https://localhost:8080/"
        },
        "outputId": "319666a9-4ac0-4044-9d8a-c40d6696a76e"
      },
      "execution_count": null,
      "outputs": [
        {
          "output_type": "stream",
          "name": "stdout",
          "text": [
            "26019\n"
          ]
        }
      ]
    },
    {
      "cell_type": "code",
      "source": [
        "costo_envio_tienda2=tienda2['Costo de envío'].mean()\n",
        "round_costo_envio_tienda2= round(costo_envio_tienda2)\n",
        "print(round_costo_envio_tienda2)"
      ],
      "metadata": {
        "colab": {
          "base_uri": "https://localhost:8080/"
        },
        "id": "c-W1rLZNtO25",
        "outputId": "c6f0e91d-2433-4fe2-8a4c-0fa884f5b317"
      },
      "execution_count": null,
      "outputs": [
        {
          "output_type": "stream",
          "name": "stdout",
          "text": [
            "25216\n"
          ]
        }
      ]
    },
    {
      "cell_type": "code",
      "source": [
        "costo_envio_tienda3=tienda3['Costo de envío'].mean()\n",
        "round_costo_envio_tienda3= round(costo_envio_tienda3)\n",
        "print(round_costo_envio_tienda3)"
      ],
      "metadata": {
        "colab": {
          "base_uri": "https://localhost:8080/"
        },
        "id": "46W5Vw9TtPEC",
        "outputId": "e9ea41a1-85a4-4bc5-a7aa-e2f95315e4c3"
      },
      "execution_count": null,
      "outputs": [
        {
          "output_type": "stream",
          "name": "stdout",
          "text": [
            "24806\n"
          ]
        }
      ]
    },
    {
      "cell_type": "code",
      "source": [
        "costo_envio_tienda4=tienda4['Costo de envío'].mean()\n",
        "round_costo_envio_tienda4= round(costo_envio_tienda4)\n",
        "print(round_costo_envio_tienda4)"
      ],
      "metadata": {
        "id": "0tSdCie9ZQlt",
        "colab": {
          "base_uri": "https://localhost:8080/"
        },
        "outputId": "83ce606d-6623-42f2-c6b3-9fb12bd5f13a"
      },
      "execution_count": null,
      "outputs": [
        {
          "output_type": "stream",
          "name": "stdout",
          "text": [
            "23459\n"
          ]
        }
      ]
    },
    {
      "cell_type": "code",
      "source": [
        "lista_costos_envio=[round_costo_envio_tienda1,round_costo_envio_tienda2,round_costo_envio_tienda3,round_costo_envio_tienda4]\n",
        "lista_costos_envio"
      ],
      "metadata": {
        "id": "2LMJaLW7CG2Q",
        "outputId": "6604571e-7551-4191-b0c6-f3592db564af",
        "colab": {
          "base_uri": "https://localhost:8080/"
        }
      },
      "execution_count": null,
      "outputs": [
        {
          "output_type": "execute_result",
          "data": {
            "text/plain": [
              "[26019, 25216, 24806, 23459]"
            ]
          },
          "metadata": {},
          "execution_count": 54
        }
      ]
    },
    {
      "cell_type": "code",
      "source": [
        "%matplotlib inline\n",
        "from matplotlib import pyplot as plt\n"
      ],
      "metadata": {
        "id": "yjwa1FugCQIK"
      },
      "execution_count": null,
      "outputs": []
    },
    {
      "cell_type": "code",
      "source": [
        "x = tiendas\n",
        "y = lista_costos_envio\n",
        "plt.bar(x,y, color='green')\n",
        "plt.title(\"Envio promedio por tienda\")\n",
        "plt.show()"
      ],
      "metadata": {
        "id": "qFHuekRdMR7L",
        "outputId": "15f8d19f-7604-41e4-8915-96e0d052f975",
        "colab": {
          "base_uri": "https://localhost:8080/",
          "height": 452
        }
      },
      "execution_count": null,
      "outputs": [
        {
          "output_type": "display_data",
          "data": {
            "text/plain": [
              "<Figure size 640x480 with 1 Axes>"
            ],
            "image/png": "[encoded data removed]"
          },
          "metadata": {}
        }
      ]
    },
    {
      "cell_type": "markdown",
      "source": [
        "##Informe de análisis para la toma de decisiones.\n",
        "<p align=\"justify\">\n",
        "Con el objetivo de optimizar la gestión y fortalecer la rentabilidad de la cadena Alura Store, se realizó un análisis detallado del desempeño de sus cuatro tiendas, considerando variables clave que permiten tener una visión integral del negocio. A partir del procesamiento de datos de ventas y comportamiento de los clientes, se analizaron los ingresos totales por tienda, la rotación por categoría de productos, las calificaciones promedio otorgadas por los usuarios, el comportamiento de los productos más y menos vendidos, y el coste de envío promedio asociado a cada local. Este ejercicio tiene como finalidad principal apoyar al Sr. Juan en una decisión estratégica: definir cuál de las tiendas debe vender, a fin de reorientar esfuerzos hacia unidades de negocio con mayor potencial de crecimiento.\n",
        "</p>\n",
        "<p align=\"justify\">\n",
        "Los datos evidencian que la Tienda 1 lidera con el mayor ingreso total, superando los 1.150 millones de pesos, mientras que la Tienda 4 registra la facturación más baja, apenas superando los 1.038 millones. Aunque todas las tiendas mantienen un comportamiento relativamente similar en términos de categorías de productos vendidos, es relevante señalar que la Tienda 3 no solo mantiene un ingreso sólido, sino que también alcanza la mejor calificación promedio de los clientes (4.05), reflejando una experiencia de compra destacada. En contraste, la Tienda 4 no solo presenta el menor ingreso, sino que también ostenta el coste de envío promedio más elevado y una calificación de satisfacción menor respecto a sus pares. Si bien sus productos más vendidos corresponden a categorías populares como juguetes o artículos para el hogar, estas no representan un alto valor agregado, lo que limita su capacidad de mejorar el ticket promedio.\n",
        "</p>\n",
        "\n",
        "\n",
        "<p align=\"justify\">\n",
        "En función de este análisis integral, se concluye que la opción más conveniente para el Sr. Juan es desprenderse de la Tienda 4. Esta decisión se sustenta en una combinación de debilidades observadas de manera consistente a lo largo de todas las variables consideradas: menor volumen de ingresos, costos operativos más altos por envío, y un desempeño más discreto en términos de percepción del cliente. En cambio, las otras tres tiendas muestran fortalezas comparativas claras, ya sea por rentabilidad, eficiencia operativa o satisfacción del cliente, lo que justifica continuar enfocando esfuerzos estratégicos en su desarrollo. Vender la Tienda 4 no solo permitirá optimizar la estructura operativa de la cadena, sino también liberar recursos para fortalecer y escalar las tiendas con mayor proyección.\n",
        "\n",
        "\n",
        "</p>"
      ],
      "metadata": {
        "id": "BcrxTvKwvNmB"
      }
    }
  ]
}